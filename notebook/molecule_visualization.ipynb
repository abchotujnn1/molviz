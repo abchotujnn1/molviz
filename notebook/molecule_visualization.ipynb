{
 "cells": [
  {
   "cell_type": "code",
   "execution_count": 2,
   "id": "a51935e5-1aa4-42a8-a1ae-39ff122b1f5c",
   "metadata": {},
   "outputs": [],
   "source": [
    "import numpy as np\n",
    "import pandas as pd"
   ]
  },
  {
   "cell_type": "code",
   "execution_count": 5,
   "id": "4486dd26-b411-47b7-a3d9-712b089d9c6d",
   "metadata": {},
   "outputs": [],
   "source": [
    "import rdkit"
   ]
  },
  {
   "cell_type": "code",
   "execution_count": 4,
   "id": "f087cc92-9fe3-4e4e-b7ca-6c3ebf496668",
   "metadata": {},
   "outputs": [
    {
     "data": {
      "application/3dmoljs_load.v0": "<div id=\"3dmolviewer_17211551818169012\"  style=\"position: relative; width: 200px; height: 200px\">\n        <p id=\"3dmolwarning_17211551818169012\" style=\"background-color:#ffcccc;color:black\">You appear to be running in JupyterLab (or JavaScript failed to load for some other reason).  You need to install the 3dmol extension: <br>\n        <tt>jupyter labextension install jupyterlab_3dmol</tt></p>\n        </div>\n<script>\n\nvar loadScriptAsync = function(uri){\n  return new Promise((resolve, reject) => {\n    //this is to ignore the existence of requirejs amd\n    var savedexports, savedmodule;\n    if (typeof exports !== 'undefined') savedexports = exports;\n    else exports = {}\n    if (typeof module !== 'undefined') savedmodule = module;\n    else module = {}\n\n    var tag = document.createElement('script');\n    tag.src = uri;\n    tag.async = true;\n    tag.onload = () => {\n        exports = savedexports;\n        module = savedmodule;\n        resolve();\n    };\n  var firstScriptTag = document.getElementsByTagName('script')[0];\n  firstScriptTag.parentNode.insertBefore(tag, firstScriptTag);\n});\n};\n\nif(typeof $3Dmolpromise === 'undefined') {\n$3Dmolpromise = null;\n  $3Dmolpromise = loadScriptAsync('https://cdn.jsdelivr.net/npm/3dmol@latest/build/3Dmol-min.min.js');\n}\n\nvar viewer_17211551818169012 = null;\nvar warn = document.getElementById(\"3dmolwarning_17211551818169012\");\nif(warn) {\n    warn.parentNode.removeChild(warn);\n}\n$3Dmolpromise.then(function() {\nviewer_17211551818169012 = $3Dmol.createViewer(document.getElementById(\"3dmolviewer_17211551818169012\"),{backgroundColor:\"white\"});\nviewer_17211551818169012.zoomTo();\n\tviewer_17211551818169012.addModel(\"\\n     RDKit          3D\\n\\n  8  7  0  0  0  0  0  0  0  0999 V2000\\n   -0.7543    0.0092   -0.0503 C   0  0  0  0  0  0  0  0  0  0  0  0\\n    0.7543   -0.0092    0.0503 C   0  0  0  0  0  0  0  0  0  0  0  0\\n   -1.0931    0.9032   -0.5823 H   0  0  0  0  0  0  0  0  0  0  0  0\\n   -1.1142   -0.8708   -0.5916 H   0  0  0  0  0  0  0  0  0  0  0  0\\n   -1.2060    0.0094    0.9461 H   0  0  0  0  0  0  0  0  0  0  0  0\\n    1.0931   -0.9032    0.5823 H   0  0  0  0  0  0  0  0  0  0  0  0\\n    1.1142    0.8708    0.5916 H   0  0  0  0  0  0  0  0  0  0  0  0\\n    1.2060   -0.0094   -0.9461 H   0  0  0  0  0  0  0  0  0  0  0  0\\n  1  2  1  0\\n  1  3  1  0\\n  1  4  1  0\\n  1  5  1  0\\n  2  6  1  0\\n  2  7  1  0\\n  2  8  1  0\\nM  END\\n\",\"mol\");\n\tviewer_17211551818169012.setStyle({\"stick\": {}});\n\tviewer_17211551818169012.zoomTo();\nviewer_17211551818169012.render();\n});\n</script>",
      "text/html": [
       "<div id=\"3dmolviewer_17211551818169012\"  style=\"position: relative; width: 200px; height: 200px\">\n",
       "        <p id=\"3dmolwarning_17211551818169012\" style=\"background-color:#ffcccc;color:black\">You appear to be running in JupyterLab (or JavaScript failed to load for some other reason).  You need to install the 3dmol extension: <br>\n",
       "        <tt>jupyter labextension install jupyterlab_3dmol</tt></p>\n",
       "        </div>\n",
       "<script>\n",
       "\n",
       "var loadScriptAsync = function(uri){\n",
       "  return new Promise((resolve, reject) => {\n",
       "    //this is to ignore the existence of requirejs amd\n",
       "    var savedexports, savedmodule;\n",
       "    if (typeof exports !== 'undefined') savedexports = exports;\n",
       "    else exports = {}\n",
       "    if (typeof module !== 'undefined') savedmodule = module;\n",
       "    else module = {}\n",
       "\n",
       "    var tag = document.createElement('script');\n",
       "    tag.src = uri;\n",
       "    tag.async = true;\n",
       "    tag.onload = () => {\n",
       "        exports = savedexports;\n",
       "        module = savedmodule;\n",
       "        resolve();\n",
       "    };\n",
       "  var firstScriptTag = document.getElementsByTagName('script')[0];\n",
       "  firstScriptTag.parentNode.insertBefore(tag, firstScriptTag);\n",
       "});\n",
       "};\n",
       "\n",
       "if(typeof $3Dmolpromise === 'undefined') {\n",
       "$3Dmolpromise = null;\n",
       "  $3Dmolpromise = loadScriptAsync('https://cdn.jsdelivr.net/npm/3dmol@latest/build/3Dmol-min.min.js');\n",
       "}\n",
       "\n",
       "var viewer_17211551818169012 = null;\n",
       "var warn = document.getElementById(\"3dmolwarning_17211551818169012\");\n",
       "if(warn) {\n",
       "    warn.parentNode.removeChild(warn);\n",
       "}\n",
       "$3Dmolpromise.then(function() {\n",
       "viewer_17211551818169012 = $3Dmol.createViewer(document.getElementById(\"3dmolviewer_17211551818169012\"),{backgroundColor:\"white\"});\n",
       "viewer_17211551818169012.zoomTo();\n",
       "\tviewer_17211551818169012.addModel(\"\\n     RDKit          3D\\n\\n  8  7  0  0  0  0  0  0  0  0999 V2000\\n   -0.7543    0.0092   -0.0503 C   0  0  0  0  0  0  0  0  0  0  0  0\\n    0.7543   -0.0092    0.0503 C   0  0  0  0  0  0  0  0  0  0  0  0\\n   -1.0931    0.9032   -0.5823 H   0  0  0  0  0  0  0  0  0  0  0  0\\n   -1.1142   -0.8708   -0.5916 H   0  0  0  0  0  0  0  0  0  0  0  0\\n   -1.2060    0.0094    0.9461 H   0  0  0  0  0  0  0  0  0  0  0  0\\n    1.0931   -0.9032    0.5823 H   0  0  0  0  0  0  0  0  0  0  0  0\\n    1.1142    0.8708    0.5916 H   0  0  0  0  0  0  0  0  0  0  0  0\\n    1.2060   -0.0094   -0.9461 H   0  0  0  0  0  0  0  0  0  0  0  0\\n  1  2  1  0\\n  1  3  1  0\\n  1  4  1  0\\n  1  5  1  0\\n  2  6  1  0\\n  2  7  1  0\\n  2  8  1  0\\nM  END\\n\",\"mol\");\n",
       "\tviewer_17211551818169012.setStyle({\"stick\": {}});\n",
       "\tviewer_17211551818169012.zoomTo();\n",
       "viewer_17211551818169012.render();\n",
       "});\n",
       "</script>"
      ]
     },
     "metadata": {},
     "output_type": "display_data"
    },
    {
     "name": "stdout",
     "output_type": "stream",
     "text": [
      "None\n"
     ]
    }
   ],
   "source": [
    "from rdkit import Chem\n",
    "from rdkit.Chem import AllChem\n",
    "import py3Dmol\n",
    "\n",
    "def show(smi, style='stick'):\n",
    "    mol = Chem.MolFromSmiles(smi)\n",
    "    mol = Chem.AddHs(mol)\n",
    "    AllChem.EmbedMolecule(mol)\n",
    "    AllChem.MMFFOptimizeMolecule(mol, maxIters=200)\n",
    "    mblock = Chem.MolToMolBlock(mol)\n",
    "\n",
    "    view = py3Dmol.view(width=200, height=200)\n",
    "    view.addModel(mblock, 'mol')\n",
    "    view.setStyle({style:{}})\n",
    "    view.zoomTo()\n",
    "    view.show()\n",
    "    print(view.)\n",
    "    \n",
    "# example\n",
    "show('CC')  # or 'P'"
   ]
  },
  {
   "cell_type": "code",
   "execution_count": null,
   "id": "6895215c-00be-4cdb-9856-5804e4a5c0f0",
   "metadata": {},
   "outputs": [],
   "source": []
  }
 ],
 "metadata": {
  "kernelspec": {
   "display_name": "Python 3 (ipykernel)",
   "language": "python",
   "name": "python3"
  },
  "language_info": {
   "codemirror_mode": {
    "name": "ipython",
    "version": 3
   },
   "file_extension": ".py",
   "mimetype": "text/x-python",
   "name": "python",
   "nbconvert_exporter": "python",
   "pygments_lexer": "ipython3",
   "version": "3.10.9"
  }
 },
 "nbformat": 4,
 "nbformat_minor": 5
}
